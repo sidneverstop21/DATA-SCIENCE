{
 "cells": [
  {
   "cell_type": "code",
   "execution_count": 29,
   "id": "d9685f60",
   "metadata": {},
   "outputs": [
    {
     "name": "stdout",
     "output_type": "stream",
     "text": [
      "APPLE iPhone 11 (Black, 128 GB)\n",
      "APPLE iPhone 13 Mini (Pink, 128 GB)\n",
      "APPLE iPhone 13 Mini ((PRODUCT)RED, 128 GB)\n",
      "APPLE iPhone 11 (Purple, 64 GB)\n",
      "APPLE iPhone 11 (White, 128 GB)\n",
      "APPLE iPhone 13 Mini (Starlight, 128 GB)\n",
      "APPLE iPhone SE (Red, 64 GB)\n",
      "APPLE iPhone 13 (Blue, 128 GB)\n",
      "APPLE iPhone 13 Mini (Midnight, 128 GB)\n",
      "APPLE iPhone 11 (White, 64 GB)\n",
      "APPLE iPhone 13 (Midnight, 128 GB)\n",
      "APPLE iPhone 13 ((PRODUCT)RED, 128 GB)\n",
      "APPLE iPhone 13 (Pink, 128 GB)\n",
      "APPLE iPhone 13 mini (Green, 128 GB)\n",
      "APPLE iPhone 13 (Starlight, 128 GB)\n",
      "APPLE iPhone 13 Mini (Blue, 128 GB)\n",
      "APPLE iPhone SE (White, 64 GB)\n",
      "APPLE iPhone 12 Mini (Black, 64 GB)\n",
      "APPLE iPhone 12 Mini (Red, 64 GB)\n",
      "APPLE iPhone SE (Black, 64 GB)\n",
      "APPLE iPhone 13 (Green, 128 GB)\n",
      "APPLE iPhone 13 Mini (Midnight, 256 GB)\n",
      "APPLE iPhone 12 (Black, 64 GB)\n",
      "APPLE iPhone SE (3rd Gen) (Midnight, 64 GB)\n"
     ]
    }
   ],
   "source": [
    "#Python program to scrape website\n",
    "#and save quotes from website\n",
    "import requests\n",
    "from bs4 import BeautifulSoup\n",
    "#import csv\n",
    "\n",
    "URL = \"https://www.flipkart.com/search?q=i%20phone&otracker=search&otracker1=search&marketplace=FLIPKART&as-show=on&as=off\"\n",
    "r = requests.get(URL)\n",
    "\n",
    "soup = BeautifulSoup(r.content, 'html5lib')\n",
    "\n",
    "list_p =[]\n",
    "list_p=soup.findAll('div',attrs = {'class':'_4rR01T'})\n",
    "for i in list_p:\n",
    "    print(i.get_text())\n",
    "\n",
    "\n",
    "\n"
   ]
  },
  {
   "cell_type": "code",
   "execution_count": null,
   "id": "8cae62d4",
   "metadata": {},
   "outputs": [],
   "source": []
  },
  {
   "cell_type": "code",
   "execution_count": null,
   "id": "29aea521",
   "metadata": {},
   "outputs": [],
   "source": []
  }
 ],
 "metadata": {
  "kernelspec": {
   "display_name": "Python 3 (ipykernel)",
   "language": "python",
   "name": "python3"
  },
  "language_info": {
   "codemirror_mode": {
    "name": "ipython",
    "version": 3
   },
   "file_extension": ".py",
   "mimetype": "text/x-python",
   "name": "python",
   "nbconvert_exporter": "python",
   "pygments_lexer": "ipython3",
   "version": "3.9.7"
  }
 },
 "nbformat": 4,
 "nbformat_minor": 5
}
